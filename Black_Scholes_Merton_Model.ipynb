{
  "nbformat": 4,
  "nbformat_minor": 0,
  "metadata": {
    "colab": {
      "name": "Black - Scholes - Merton Model.ipynb",
      "provenance": [],
      "collapsed_sections": [],
      "toc_visible": true
    },
    "kernelspec": {
      "name": "python3",
      "display_name": "Python 3"
    }
  },
  "cells": [
    {
      "cell_type": "code",
      "metadata": {
        "id": "UUtCi485tC7N"
      },
      "source": [
        "from google.colab import drive\n",
        "drive.mount('/content/drive')"
      ],
      "execution_count": null,
      "outputs": []
    },
    {
      "cell_type": "markdown",
      "metadata": {
        "id": "Q7D_ASUyrTq-"
      },
      "source": [
        "# Ατομική Εργασία 2 : \n",
        "\n",
        "## Black - Scholes - Merton Model \n",
        "-----------------------------------\n"
      ]
    },
    {
      "cell_type": "markdown",
      "metadata": {
        "id": "q6sOC0_SsT8P"
      },
      "source": [
        "## Ερώτημα - Α\n",
        "----"
      ]
    },
    {
      "cell_type": "code",
      "metadata": {
        "id": "xqAs0nBJsVVd"
      },
      "source": [
        "# Εισαγωγή απαραίτητης βιβλιοθήκης\n",
        "\n",
        "import numpy as np  # Εισαγωγή αρχικών τιμών\n",
        "\n",
        "So = 97\n",
        "K = 103\n",
        "T = 1.5\n",
        "r = 0.05\n",
        "σ = 0.02\n",
        "N = 50 # Έστω ότι υποθέτω ότι Ν = 50 ψευδοτυχαίοι αριθμοί\n",
        "\n",
        "print(f\"So = {So}\\nK = {K}\\nT = {T}\\nr = {r}\\nσ = {σ}\\nN = {N}\")"
      ],
      "execution_count": null,
      "outputs": []
    },
    {
      "cell_type": "markdown",
      "metadata": {
        "id": "AgJXTou5tQJq"
      },
      "source": [
        "### Ερώτημα 1\n",
        "----------\n",
        "\n",
        "Να εξαχθούν $N$ ψευδοτυχαίοι αριθμοί  $z(i),i\\in \\left\\{ 1,....N \\right\\}$από την κανονικοποιημένη κατανομή $N(0,1)$"
      ]
    },
    {
      "cell_type": "code",
      "metadata": {
        "id": "wgd2eEv0tUyZ"
      },
      "source": [
        "# Εξαγωγή ψευδοτυχαίων αριθμών που ακολουθούν κανονική κατανομή ~ N(0,1) \n",
        "\n",
        "N = 50 # Έστω ότι εισάγουμε N = 50 ψευδοτυχαίους αριθμούς που ακολουθούν \n",
        "       # την κανονική κατανομή ~ Ν(0,1)\n",
        "       \n",
        "print(f\"Για N = {N} έχουμε τις παρακάτω ψευδοτυχαίες Z(i) τιμές : \\n\")\n",
        "\n",
        "Zi = np.random.standard_normal(N)\n",
        "print(Zi)\n"
      ],
      "execution_count": null,
      "outputs": []
    },
    {
      "cell_type": "markdown",
      "metadata": {
        "id": "PApsZU3StpEY"
      },
      "source": [
        "### Ερώτημα 2\n",
        "--------------\n",
        "\n",
        "Ο Δείκτης στην λήξη του προιόντος δίνεται από την σχέση :\n",
        "\n",
        "$${{S}_{T}}={{S}_{0}}{{e}^{\\left( \\left( r-\\frac{1}{2}{{\\sigma }^{2}} \\right)T+\\sigma \\sqrt{T}z \\right)}}$$"
      ]
    },
    {
      "cell_type": "code",
      "metadata": {
        "id": "Z4tD2wbdtr41"
      },
      "source": [
        "# Ο δείκτης στην λήξη του προϊόντος ισούται με :\n",
        "\n",
        "ST = So * np.exp((r - 0.5 * σ**2) * T + σ * np.sqrt(T) * Zi)\n",
        "\n",
        "ST"
      ],
      "execution_count": null,
      "outputs": []
    },
    {
      "cell_type": "markdown",
      "metadata": {
        "id": "p8dLfQsztxOk"
      },
      "source": [
        "### Ερώτημα 3\n",
        "-------------------\n",
        "Για τον υπολογίσμο των Ενδιάμεσων Τιμών χρησιμοποιούμε τον παρακάτω τύπο :\n",
        "\n",
        "$$h_T\\left(i\\right)=max\\left(S_T\\left(i\\right)-K,0\\right)$$\n"
      ]
    },
    {
      "cell_type": "code",
      "metadata": {
        "id": "jOBZFl7Wt0_j"
      },
      "source": [
        "# Υπολογισμός ενδιάμεσων τιμών hT(i)\n",
        "\n",
        "hT = np.maximum(ST - K , 0)\n",
        "hT "
      ],
      "execution_count": null,
      "outputs": []
    },
    {
      "cell_type": "markdown",
      "metadata": {
        "id": "3cET0LV-t4jV"
      },
      "source": [
        "### Ερώτημα 4\n",
        "-----------------\n",
        "\n",
        "Ο υπολογισμός της Τρέχουσας Αξίας δίνεται με βάση τον εκτιμητή Montee Carlo δίνεται από τον τύπο :\n",
        "\n",
        "$$C_0\\approx e^{-rT}\\frac{\\sum_{I}{h_T\\left(i\\right)}}{I}$$"
      ]
    },
    {
      "cell_type": "code",
      "metadata": {
        "id": "-G7Sjmfit62J"
      },
      "source": [
        "# Υπολογισμός τρέχουσας αξίας του προϊόντος με βάση τον εκτιμητή Monte Carlom\n",
        "\n",
        "Co = np.exp(-r * T) * np.mean(hT)\n",
        "Co"
      ],
      "execution_count": null,
      "outputs": []
    },
    {
      "cell_type": "code",
      "metadata": {
        "id": "Vyk-hHtst8iw"
      },
      "source": [
        "print(f\"Επομένως για Ν = 50 η τρέχουσα αξία ισούται με Co = {round(Co,5)}\")"
      ],
      "execution_count": null,
      "outputs": []
    },
    {
      "cell_type": "markdown",
      "metadata": {
        "id": "apS1SR5uuAV5"
      },
      "source": [
        "## Ερώτημα - Β\n",
        "------\n",
        "\n",
        "Να υπολογίσετε το χρόνο που απαιτεί το πρόγραμμα που κατασκευάσατε για κάθε τιμή του $N$.\n"
      ]
    },
    {
      "cell_type": "code",
      "metadata": {
        "id": "AXLBkuA2uCkG"
      },
      "source": [
        "# Εισαγωγή απαραίτητης βιβλιοθήκης\n",
        "\n",
        "import numpy as np\n",
        "import timeit # Βιβλιοθήκη υπολογισμού χρόνο εκτέλεσης προγράμματος"
      ],
      "execution_count": null,
      "outputs": []
    },
    {
      "cell_type": "code",
      "metadata": {
        "id": "ECD9eAFJuFP0"
      },
      "source": [
        "# Εισαγωγή αρχικών τιμών\n",
        "\n",
        "So = 97\n",
        "K = 103\n",
        "T = 1.5\n",
        "r = 0.05\n",
        "σ = 0.02\n",
        "N1 = 10**3\n",
        "N2 = 10**5\n",
        "N3 = 10**7\n",
        "\n",
        "\n",
        "print(f\"\\nSo = {So}\\nK = {K}\\nT = {T}\\nr = {r}\\nσ = {σ}\\\n",
        "                    \\nN1 = {N1}\\nN2 = {N2}\\nN3 = {N3}\")"
      ],
      "execution_count": null,
      "outputs": []
    },
    {
      "cell_type": "markdown",
      "metadata": {
        "id": "vvXdUsECuMWZ"
      },
      "source": [
        "### Έστω ότι εισάγουμε ${{N}_{1}}=1.000$ ψευδοτυχαίους αριθμούς που ακολουθούν την κανονική κατανομή $\\sim N(0,1)$\n",
        "-------------------------------------------------------------------------------------------------------------------------------"
      ]
    },
    {
      "cell_type": "code",
      "metadata": {
        "id": "3wJm6vNBuOLg"
      },
      "source": [
        "# Έχουμε N1 = 1.000 ψευδοτυχαίους αριθμούς που ακολουθούν \n",
        "# την κανονική κατανομή ~ Ν(0,1)\n",
        "\n",
        "# Επομένως προκύπτει ότι η τρέχουσα αξία ισούται με :\n",
        "\n",
        "Zi = np.random.standard_normal(N1)\n",
        "ST = So * np.exp((r - 0.5 * σ**2) * T + σ * np.sqrt(T) * Zi)\n",
        "hT = np.maximum(ST - K , 0)\n",
        "Co = np.exp(-r * T) * np.mean(hT)\n",
        "Co"
      ],
      "execution_count": null,
      "outputs": []
    },
    {
      "cell_type": "code",
      "metadata": {
        "id": "DJF9emRVuQa9"
      },
      "source": [
        "# Υπολογισμός χρ΄όνου εκτέλεσης προγράμματος για Ν1 = 1.000\n",
        "\n",
        "code_to_test = \"\"\"\n",
        "a = range(100000)\n",
        "b = []\n",
        "for i in a:\n",
        " b.append(i*2)\n",
        "\"\"\"\n",
        "elapsed_time = timeit.timeit(code_to_test, number=100)/100\n",
        "print(elapsed_time)"
      ],
      "execution_count": null,
      "outputs": []
    },
    {
      "cell_type": "code",
      "metadata": {
        "id": "NiUKErCAuTsZ"
      },
      "source": [
        "print(f\"Για Ν1 = 1.000 η τρέχουσα αξία ισούται με Co = {round(Co,5)} \\\n",
        "και έχει χρόνο εκτέλεσης Elapsed time = {round(elapsed_time,5,)} sec\")"
      ],
      "execution_count": null,
      "outputs": []
    },
    {
      "cell_type": "markdown",
      "metadata": {
        "id": "vWIoUMHcuYiO"
      },
      "source": [
        "### Έστω ότι εισάγουμε ${{N}_{2}}=100.000$ ψευδοτυχαίους αριθμούς που ακολουθούν την κανονική κατανομή $\\sim N(0,1)$\n",
        "-------------------------------------------------------------------------------------------------------------------------------"
      ]
    },
    {
      "cell_type": "code",
      "metadata": {
        "id": "MDfjN0udubDC"
      },
      "source": [
        "# Έχουμε N2 = 100.000 ψευδοτυχαίους αριθμούς που ακολουθούν\n",
        "# την κανονική κατανομή ~ Ν(0,1)\n",
        "\n",
        "# Επομένως προκύπτει ότι η τρέχουσα αξία ισούται με :\n",
        "\n",
        "Zi = np.random.standard_normal(N2)\n",
        "ST = So * np.exp((r - 0.5 * σ**2) * T + σ * np.sqrt(T) * Zi)\n",
        "hT = np.maximum(ST - K , 0)\n",
        "Co = np.exp(-r * T) * np.mean(hT)\n",
        "Co"
      ],
      "execution_count": null,
      "outputs": []
    },
    {
      "cell_type": "code",
      "metadata": {
        "id": "9WACrNG6uc22"
      },
      "source": [
        "# Υπολογισμός χρ΄όνου εκτέλεσης προγράμματος για Ν2 = 100.000\n",
        "\n",
        "code_to_test = \"\"\"\n",
        "a = range(100000)\n",
        "b = []\n",
        "for i in a:\n",
        " b.append(i*2)\n",
        "\"\"\"\n",
        "elapsed_time = timeit.timeit(code_to_test, number=10)/10\n",
        "print(elapsed_time)"
      ],
      "execution_count": null,
      "outputs": []
    },
    {
      "cell_type": "code",
      "metadata": {
        "id": "WC5X2C7Wueaw"
      },
      "source": [
        "print(f\"Για Ν2 = 100.000 η τρέχουσα αξία ισούται με Co = {round(Co,5)} \\\n",
        "και έχει χρόνο εκτέλεσης Elapsed time = {round(elapsed_time,5)} sec\")"
      ],
      "execution_count": null,
      "outputs": []
    },
    {
      "cell_type": "markdown",
      "metadata": {
        "id": "9BEbHf8UuhJy"
      },
      "source": [
        "### Έστω ότι εισάγουμε ${{N}_{3}}=10.000.000$ ψευδοτυχαίους αριθμούς που ακολουθούν την κανονική κατανομή $\\sim N(0,1)$\n",
        "-------------------------------------------------------------------------------------------------------------------------------"
      ]
    },
    {
      "cell_type": "code",
      "metadata": {
        "id": "EIXmxuUBujSx"
      },
      "source": [
        "# Έχουμε N3 = 10.000.000 ψευδοτυχαίους αριθμούς που ακολουθούν\n",
        "# την κανονική κατανομή ~ Ν(0,1)\n",
        "\n",
        "# Επομένως προκύπτει ότι η τρέχουσα αξία ισούται με :\n",
        "\n",
        "Zi = np.random.standard_normal(N3)\n",
        "ST = So * np.exp((r - 0.5 * σ**2) * T + σ * np.sqrt(T) * Zi)\n",
        "hT = np.maximum(ST - K , 0)\n",
        "Co = np.exp(-r * T) * np.mean(hT)\n",
        "Co"
      ],
      "execution_count": null,
      "outputs": []
    },
    {
      "cell_type": "code",
      "metadata": {
        "id": "qI_qzyM3ulOB"
      },
      "source": [
        "# Υπολογισμός χρ΄όνου εκτέλεσης προγράμματος για Ν3 = 10.000.000\n",
        "\n",
        "code_to_test = \"\"\"\n",
        "a = range(100000)\n",
        "b = []\n",
        "for i in a:\n",
        " b.append(i*2)\n",
        "\"\"\"\n",
        "elapsed_time = timeit.timeit(code_to_test, number=100)/100\n",
        "print(elapsed_time)"
      ],
      "execution_count": null,
      "outputs": []
    },
    {
      "cell_type": "code",
      "metadata": {
        "id": "-ecjgyZqumsK"
      },
      "source": [
        "print(f\"Για Ν3 = 10.000.000 η τρέχουσα αξία ισούται με Co = {round(Co,5)} \\\n",
        "και έχει χρόνο εκτέλεσης Elapsed time = {round(elapsed_time,5)} sec\")"
      ],
      "execution_count": null,
      "outputs": []
    }
  ]
}