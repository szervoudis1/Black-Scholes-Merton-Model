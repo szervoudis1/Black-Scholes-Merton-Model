{
  "nbformat": 4,
  "nbformat_minor": 0,
  "metadata": {
    "colab": {
      "name": "Black - Scholes - Merton Model.ipynb",
      "provenance": [],
      "collapsed_sections": [],
      "toc_visible": true
    },
    "kernelspec": {
      "name": "python3",
      "display_name": "Python 3"
    }
  },
  "cells": [
    {
      "cell_type": "markdown",
      "metadata": {
        "id": "Q7D_ASUyrTq-"
      },
      "source": [
        "# Ατομική Εργασία 2 : \n",
        "\n",
        "## Black - Scholes - Merton Model \n",
        "--------------------------------------------------------------------------------\n"
      ]
    },
    {
      "cell_type": "markdown",
      "metadata": {
        "id": "q6sOC0_SsT8P"
      },
      "source": [
        "## Ερώτημα - Α\n",
        "--------------------------------------------------------------------------------"
      ]
    },
    {
      "cell_type": "code",
      "metadata": {
        "colab": {
          "base_uri": "https://localhost:8080/"
        },
        "id": "xqAs0nBJsVVd",
        "outputId": "205d32fd-8d53-4e8d-ff04-a749e94aa1fd"
      },
      "source": [
        "# Εισαγωγή απαραίτητης βιβλιοθήκης\n",
        "\n",
        "import numpy as np  # Εισαγωγή αρχικών τιμών\n",
        "\n",
        "So = 97\n",
        "K = 103\n",
        "T = 1.5\n",
        "r = 0.05\n",
        "σ = 0.02\n",
        "N = 50 # Έστω ότι υποθέτω ότι Ν = 50 ψευδοτυχαίοι αριθμοί\n",
        "\n",
        "print(f\"So = {So}\\nK = {K}\\nT = {T}\\nr = {r}\\nσ = {σ}\\nN = {N}\")"
      ],
      "execution_count": null,
      "outputs": [
        {
          "output_type": "stream",
          "text": [
            "So = 97\n",
            "K = 103\n",
            "T = 1.5\n",
            "r = 0.05\n",
            "σ = 0.02\n",
            "N = 50\n"
          ],
          "name": "stdout"
        }
      ]
    },
    {
      "cell_type": "markdown",
      "metadata": {
        "id": "AgJXTou5tQJq"
      },
      "source": [
        "### Ερώτημα 1\n",
        "--------------------------------------------------------------------------------\n",
        "Να εξαχθούν $N$ ψευδοτυχαίοι αριθμοί  $z(i),i\\in \\left\\{ 1,....N \\right\\}$από την κανονικοποιημένη κατανομή $N(0,1)$"
      ]
    },
    {
      "cell_type": "code",
      "metadata": {
        "colab": {
          "base_uri": "https://localhost:8080/"
        },
        "id": "wgd2eEv0tUyZ",
        "outputId": "1b09a40c-b6aa-4b81-a841-c7bb484a0de7"
      },
      "source": [
        "# Εξαγωγή ψευδοτυχαίων αριθμών που ακολουθούν κανονική κατανομή ~ N(0,1) \n",
        "\n",
        "N = 50 # Έστω ότι εισάγουμε N = 50 ψευδοτυχαίους αριθμούς που ακολουθούν \n",
        "       # την κανονική κατανομή ~ Ν(0,1)\n",
        "       \n",
        "print(f\"Για N = {N} έχουμε τις παρακάτω ψευδοτυχαίες Z(i) τιμές : \\n\")\n",
        "\n",
        "Zi = np.random.standard_normal(N)\n",
        "print(Zi)\n"
      ],
      "execution_count": null,
      "outputs": [
        {
          "output_type": "stream",
          "text": [
            "Για N = 50 έχουμε τις παρακάτω ψευδοτυχαίες Z(i) τιμές : \n",
            "\n",
            "[-0.55201312  1.66550701 -0.74264761  0.8039395  -0.35170202  1.1845657\n",
            "  2.34625679  0.73490057  0.10348296  0.74387746  2.12911653 -0.88679702\n",
            "  1.14673535 -0.9089238   0.56365875 -0.2867038  -0.6351831   0.41070438\n",
            "  1.71367719 -0.72254919 -0.9006563  -0.94756325 -0.14038052  0.09220505\n",
            " -0.24296649  0.02339987  0.76100752 -0.6575906  -0.24132915  0.19363911\n",
            "  1.17841706  1.97678968  0.67887407  1.49685611 -0.52670889  0.12370851\n",
            " -0.59842243  0.09746328 -2.57483038 -0.864951   -0.53925023 -0.27407327\n",
            " -1.31976838  2.16354996  1.40614643  1.82827566 -0.87635577  0.30035189\n",
            "  0.09332665 -0.96879622]\n"
          ],
          "name": "stdout"
        }
      ]
    },
    {
      "cell_type": "markdown",
      "metadata": {
        "id": "PApsZU3StpEY"
      },
      "source": [
        "### Ερώτημα 2\n",
        "--------------------------------------------------------------------------------\n",
        "\n",
        "Ο Δείκτης στην λήξη του προιόντος δίνεται από την σχέση :\n",
        "\n",
        "$${{S}_{T}}={{S}_{0}}{{e}^{\\left( \\left( r-\\frac{1}{2}{{\\sigma }^{2}} \\right)T+\\sigma \\sqrt{T}z \\right)}}$$"
      ]
    },
    {
      "cell_type": "code",
      "metadata": {
        "colab": {
          "base_uri": "https://localhost:8080/"
        },
        "id": "Z4tD2wbdtr41",
        "outputId": "e608ce24-e6ab-4a68-af30-89a6b1ebac9f"
      },
      "source": [
        "# Ο δείκτης στην λήξη του προϊόντος ισούται με :\n",
        "\n",
        "ST = So * np.exp((r - 0.5 * σ**2) * T + σ * np.sqrt(T) * Zi)\n",
        "\n",
        "ST"
      ],
      "execution_count": null,
      "outputs": [
        {
          "output_type": "execute_result",
          "data": {
            "text/plain": [
              "array([103.11959938, 108.87575849, 102.63919749, 106.60211949,\n",
              "       103.62680932, 107.60066133, 110.7064715 , 106.42199681,\n",
              "       104.78868337, 106.4454003 , 110.11920596, 102.27742525,\n",
              "       107.5009993 , 102.22200659, 105.97653924, 103.79192755,\n",
              "       102.90973384, 105.58023026, 109.0042994 , 102.68974009,\n",
              "       102.24270981, 102.12530236, 104.16460331, 104.75973936,\n",
              "       103.90318366, 104.58332853, 106.49007408, 102.85326536,\n",
              "       103.90735094, 105.02035081, 107.58445677, 109.7090914 ,\n",
              "       106.27604735, 108.42691107, 103.18353527, 104.84061093,\n",
              "       103.00244052, 104.77323328,  98.13467524, 102.33217017,\n",
              "       103.15184226, 103.82404401, 101.19844462, 110.21212444,\n",
              "       108.18626215, 109.31071281, 102.30358679, 105.29522454,\n",
              "       104.76261753, 102.07220087])"
            ]
          },
          "metadata": {
            "tags": []
          },
          "execution_count": 3
        }
      ]
    },
    {
      "cell_type": "markdown",
      "metadata": {
        "id": "p8dLfQsztxOk"
      },
      "source": [
        "### Ερώτημα 3\n",
        "--------------------------------------------------------------------------------\n",
        "Για τον υπολογίσμο των Ενδιάμεσων Τιμών χρησιμοποιούμε τον παρακάτω τύπο :\n",
        "\n",
        "$$h_T\\left(i\\right)=max\\left(S_T\\left(i\\right)-K,0\\right)$$\n"
      ]
    },
    {
      "cell_type": "code",
      "metadata": {
        "colab": {
          "base_uri": "https://localhost:8080/"
        },
        "id": "jOBZFl7Wt0_j",
        "outputId": "ade89207-b3e0-451c-977c-a6d8937d5617"
      },
      "source": [
        "# Υπολογισμός ενδιάμεσων τιμών hT(i)\n",
        "\n",
        "hT = np.maximum(ST - K , 0)\n",
        "hT "
      ],
      "execution_count": null,
      "outputs": [
        {
          "output_type": "execute_result",
          "data": {
            "text/plain": [
              "array([1.19599384e-01, 5.87575849e+00, 0.00000000e+00, 3.60211949e+00,\n",
              "       6.26809316e-01, 4.60066133e+00, 7.70647150e+00, 3.42199681e+00,\n",
              "       1.78868337e+00, 3.44540030e+00, 7.11920596e+00, 0.00000000e+00,\n",
              "       4.50099930e+00, 0.00000000e+00, 2.97653924e+00, 7.91927548e-01,\n",
              "       0.00000000e+00, 2.58023026e+00, 6.00429940e+00, 0.00000000e+00,\n",
              "       0.00000000e+00, 0.00000000e+00, 1.16460331e+00, 1.75973936e+00,\n",
              "       9.03183664e-01, 1.58332853e+00, 3.49007408e+00, 0.00000000e+00,\n",
              "       9.07350937e-01, 2.02035081e+00, 4.58445677e+00, 6.70909140e+00,\n",
              "       3.27604735e+00, 5.42691107e+00, 1.83535270e-01, 1.84061093e+00,\n",
              "       2.44052346e-03, 1.77323328e+00, 0.00000000e+00, 0.00000000e+00,\n",
              "       1.51842257e-01, 8.24044011e-01, 0.00000000e+00, 7.21212444e+00,\n",
              "       5.18626215e+00, 6.31071281e+00, 0.00000000e+00, 2.29522454e+00,\n",
              "       1.76261753e+00, 0.00000000e+00])"
            ]
          },
          "metadata": {
            "tags": []
          },
          "execution_count": 4
        }
      ]
    },
    {
      "cell_type": "markdown",
      "metadata": {
        "id": "3cET0LV-t4jV"
      },
      "source": [
        "### Ερώτημα 4\n",
        "--------------------------------------------------------------------------------\n",
        "\n",
        "Ο υπολογισμός της Τρέχουσας Αξίας δίνεται με βάση τον εκτιμητή Montee Carlo δίνεται από τον τύπο :\n",
        "\n",
        "$${{C}_{0}}\\approx {{e}^{-rT}}\\frac{1}{I}\\sum\\limits_{i=1}^{I}{{{h}_{T}}\\left( i \\right)}$$"
      ]
    },
    {
      "cell_type": "code",
      "metadata": {
        "colab": {
          "base_uri": "https://localhost:8080/"
        },
        "id": "-G7Sjmfit62J",
        "outputId": "0ac13707-0af5-4c67-c985-25c3d7002b78"
      },
      "source": [
        "# Υπολογισμός τρέχουσας αξίας του προϊόντος με βάση τον εκτιμητή Monte Carlom\n",
        "\n",
        "Co = np.exp(-r * T) * np.mean(hT)\n",
        "Co"
      ],
      "execution_count": null,
      "outputs": [
        {
          "output_type": "execute_result",
          "data": {
            "text/plain": [
              "2.1250611511640654"
            ]
          },
          "metadata": {
            "tags": []
          },
          "execution_count": 5
        }
      ]
    },
    {
      "cell_type": "code",
      "metadata": {
        "colab": {
          "base_uri": "https://localhost:8080/"
        },
        "id": "Vyk-hHtst8iw",
        "outputId": "0d675503-b3b8-4955-b9fa-67a499f4e317"
      },
      "source": [
        "print(f\"Επομένως για Ν = 50 η τρέχουσα αξία ισούται με Co = {round(Co,5)}\")"
      ],
      "execution_count": null,
      "outputs": [
        {
          "output_type": "stream",
          "text": [
            "Επομένως για Ν = 50 η τρέχουσα αξία ισούται με Co = 2.12506\n"
          ],
          "name": "stdout"
        }
      ]
    },
    {
      "cell_type": "markdown",
      "metadata": {
        "id": "apS1SR5uuAV5"
      },
      "source": [
        "## Ερώτημα - Β\n",
        "--------------------------------------------------------------------------------\n",
        "\n",
        "Να υπολογίσετε το χρόνο που απαιτεί το πρόγραμμα που κατασκευάσατε για κάθε τιμή του $N$.\n"
      ]
    },
    {
      "cell_type": "code",
      "metadata": {
        "id": "AXLBkuA2uCkG"
      },
      "source": [
        "# Εισαγωγή απαραίτητης βιβλιοθήκης\n",
        "\n",
        "import numpy as np\n",
        "import timeit # Βιβλιοθήκη υπολογισμού χρόνο εκτέλεσης προγράμματος\n"
      ],
      "execution_count": null,
      "outputs": []
    },
    {
      "cell_type": "code",
      "metadata": {
        "colab": {
          "base_uri": "https://localhost:8080/"
        },
        "id": "ECD9eAFJuFP0",
        "outputId": "ffa5c96f-ad95-44ee-c7a1-c603f4f8e46e"
      },
      "source": [
        "# Εισαγωγή αρχικών τιμών\n",
        "\n",
        "So = 97\n",
        "K = 103\n",
        "T = 1.5\n",
        "r = 0.05\n",
        "σ = 0.02\n",
        "N1 = 10**3\n",
        "N2 = 10**5\n",
        "N3 = 10**7\n",
        "\n",
        "\n",
        "print(f\"\\nSo = {So}\\nK = {K}\\nT = {T}\\nr = {r}\\nσ = {σ}\\\n",
        "                    \\nN1 = {N1}\\nN2 = {N2}\\nN3 = {N3}\")"
      ],
      "execution_count": null,
      "outputs": [
        {
          "output_type": "stream",
          "text": [
            "\n",
            "So = 97\n",
            "K = 103\n",
            "T = 1.5\n",
            "r = 0.05\n",
            "σ = 0.02                    \n",
            "N1 = 1000\n",
            "N2 = 100000\n",
            "N3 = 10000000\n"
          ],
          "name": "stdout"
        }
      ]
    },
    {
      "cell_type": "markdown",
      "metadata": {
        "id": "vvXdUsECuMWZ"
      },
      "source": [
        "#### Έστω ότι εισάγουμε ${{N}_{1}}=1.000$ ψευδοτυχαίους αριθμούς που ακολουθούν την κανονική κατανομή $\\sim N(0,1)$\n",
        "--------------------------------------------------------------------------------"
      ]
    },
    {
      "cell_type": "code",
      "metadata": {
        "colab": {
          "base_uri": "https://localhost:8080/"
        },
        "id": "3wJm6vNBuOLg",
        "outputId": "a0b3d6b6-fc91-4eb2-f1ca-efe46c946faa"
      },
      "source": [
        "# Έχουμε N1 = 1.000 ψευδοτυχαίους αριθμούς που ακολουθούν \n",
        "# την κανονική κατανομή ~ Ν(0,1)\n",
        "\n",
        "# Επομένως προκύπτει ότι η τρέχουσα αξία ισούται με :\n",
        "\n",
        "Zi = np.random.standard_normal(N1)\n",
        "ST = So * np.exp((r - 0.5 * σ**2) * T + σ * np.sqrt(T) * Zi)\n",
        "hT = np.maximum(ST - K , 0)\n",
        "Co = np.exp(-r * T) * np.mean(hT)\n",
        "Co\n"
      ],
      "execution_count": null,
      "outputs": [
        {
          "output_type": "execute_result",
          "data": {
            "text/plain": [
              "1.8365086543566294"
            ]
          },
          "metadata": {
            "tags": []
          },
          "execution_count": 9
        }
      ]
    },
    {
      "cell_type": "code",
      "metadata": {
        "colab": {
          "base_uri": "https://localhost:8080/"
        },
        "id": "DJF9emRVuQa9",
        "outputId": "7e4c9305-dcb1-4081-eec5-690d7519d9f7"
      },
      "source": [
        "# Υπολογισμός χρ΄όνου εκτέλεσης προγράμματος για Ν1 = 1.000\n",
        "\n",
        "code_to_test = \"\"\"\n",
        "a = range(100000)\n",
        "b = []\n",
        "for i in a:\n",
        " b.append(i*2)\n",
        "\"\"\"\n",
        "elapsed_time = timeit.timeit(code_to_test, number=100)/100\n",
        "print(elapsed_time)"
      ],
      "execution_count": null,
      "outputs": [
        {
          "output_type": "stream",
          "text": [
            "0.012648183470000162\n"
          ],
          "name": "stdout"
        }
      ]
    },
    {
      "cell_type": "code",
      "metadata": {
        "colab": {
          "base_uri": "https://localhost:8080/"
        },
        "id": "NiUKErCAuTsZ",
        "outputId": "f289eb01-266e-4aee-d6b5-af7e16632c2d"
      },
      "source": [
        "print(f\"Για Ν1 = 1.000 η τρέχουσα αξία ισούται με Co = {round(Co,5)} \\\n",
        "και έχει χρόνο εκτέλεσης Elapsed time = {round(elapsed_time,5,)} sec\")"
      ],
      "execution_count": null,
      "outputs": [
        {
          "output_type": "stream",
          "text": [
            "Για Ν1 = 1.000 η τρέχουσα αξία ισούται με Co = 1.83651 και έχει χρόνο εκτέλεσης Elapsed time = 0.01265 sec\n"
          ],
          "name": "stdout"
        }
      ]
    },
    {
      "cell_type": "markdown",
      "metadata": {
        "id": "vWIoUMHcuYiO"
      },
      "source": [
        "#### Έστω ότι εισάγουμε ${{N}_{2}}=100.000$ ψευδοτυχαίους αριθμούς που ακολουθούν την κανονική κατανομή $\\sim N(0,1)$\n",
        "--------------------------------------------------------------------------------"
      ]
    },
    {
      "cell_type": "code",
      "metadata": {
        "colab": {
          "base_uri": "https://localhost:8080/"
        },
        "id": "MDfjN0udubDC",
        "outputId": "f166b817-3bed-477b-d111-1c429d97b27f"
      },
      "source": [
        "# Έχουμε N2 = 100.000 ψευδοτυχαίους αριθμούς που ακολουθούν\n",
        "# την κανονική κατανομή ~ Ν(0,1)\n",
        "\n",
        "# Επομένως προκύπτει ότι η τρέχουσα αξία ισούται με :\n",
        "\n",
        "Zi = np.random.standard_normal(N2)\n",
        "ST = So * np.exp((r - 0.5 * σ**2) * T + σ * np.sqrt(T) * Zi)\n",
        "hT = np.maximum(ST - K , 0)\n",
        "Co = np.exp(-r * T) * np.mean(hT)\n",
        "Co"
      ],
      "execution_count": null,
      "outputs": [
        {
          "output_type": "execute_result",
          "data": {
            "text/plain": [
              "1.832150262988228"
            ]
          },
          "metadata": {
            "tags": []
          },
          "execution_count": 12
        }
      ]
    },
    {
      "cell_type": "code",
      "metadata": {
        "colab": {
          "base_uri": "https://localhost:8080/"
        },
        "id": "9WACrNG6uc22",
        "outputId": "023618f7-88e8-4d6f-9907-576907b03b45"
      },
      "source": [
        "# Υπολογισμός χρ΄όνου εκτέλεσης προγράμματος για Ν2 = 100.000\n",
        "\n",
        "code_to_test = \"\"\"\n",
        "a = range(100000)\n",
        "b = []\n",
        "for i in a:\n",
        " b.append(i*2)\n",
        "\"\"\"\n",
        "elapsed_time = timeit.timeit(code_to_test, number=10)/10\n",
        "print(elapsed_time)"
      ],
      "execution_count": null,
      "outputs": [
        {
          "output_type": "stream",
          "text": [
            "0.013207996599999206\n"
          ],
          "name": "stdout"
        }
      ]
    },
    {
      "cell_type": "code",
      "metadata": {
        "colab": {
          "base_uri": "https://localhost:8080/"
        },
        "id": "WC5X2C7Wueaw",
        "outputId": "cf4585b2-8ac7-4251-a1d0-6c532c2c78e1"
      },
      "source": [
        "print(f\"Για Ν2 = 100.000 η τρέχουσα αξία ισούται με Co = {round(Co,5)} \\\n",
        "και έχει χρόνο εκτέλεσης Elapsed time = {round(elapsed_time,5)} sec\")"
      ],
      "execution_count": null,
      "outputs": [
        {
          "output_type": "stream",
          "text": [
            "Για Ν2 = 100.000 η τρέχουσα αξία ισούται με Co = 1.83215 και έχει χρόνο εκτέλεσης Elapsed time = 0.01321 sec\n"
          ],
          "name": "stdout"
        }
      ]
    },
    {
      "cell_type": "markdown",
      "metadata": {
        "id": "9BEbHf8UuhJy"
      },
      "source": [
        "#### Έστω ότι εισάγουμε ${{N}_{3}}=10.000.000$ ψευδοτυχαίους αριθμούς που ακολουθούν την κανονική κατανομή $\\sim N(0,1)$\n",
        "--------------------------------------------------------------------------------"
      ]
    },
    {
      "cell_type": "code",
      "metadata": {
        "colab": {
          "base_uri": "https://localhost:8080/"
        },
        "id": "EIXmxuUBujSx",
        "outputId": "c36291a2-8312-44b5-8a93-8adf1ec57090"
      },
      "source": [
        "# Έχουμε N3 = 10.000.000 ψευδοτυχαίους αριθμούς που ακολουθούν\n",
        "# την κανονική κατανομή ~ Ν(0,1)\n",
        "\n",
        "# Επομένως προκύπτει ότι η τρέχουσα αξία ισούται με :\n",
        "\n",
        "Zi = np.random.standard_normal(N3)\n",
        "ST = So * np.exp((r - 0.5 * σ**2) * T + σ * np.sqrt(T) * Zi)\n",
        "hT = np.maximum(ST - K , 0)\n",
        "Co = np.exp(-r * T) * np.mean(hT)\n",
        "Co"
      ],
      "execution_count": null,
      "outputs": [
        {
          "output_type": "execute_result",
          "data": {
            "text/plain": [
              "1.8330909860542104"
            ]
          },
          "metadata": {
            "tags": []
          },
          "execution_count": 15
        }
      ]
    },
    {
      "cell_type": "code",
      "metadata": {
        "colab": {
          "base_uri": "https://localhost:8080/"
        },
        "id": "qI_qzyM3ulOB",
        "outputId": "ccbb80e6-78cb-44af-b66e-4932038bda6a"
      },
      "source": [
        "# Υπολογισμός χρόνου εκτέλεσης προγράμματος για Ν3 = 10.000.000\n",
        "\n",
        "code_to_test = \"\"\"\n",
        "a = range(100000)\n",
        "b = []\n",
        "for i in a:\n",
        " b.append(i*2)\n",
        "\"\"\"\n",
        "elapsed_time = timeit.timeit(code_to_test, number=100)/100\n",
        "print(elapsed_time)"
      ],
      "execution_count": null,
      "outputs": [
        {
          "output_type": "stream",
          "text": [
            "0.012372185429999832\n"
          ],
          "name": "stdout"
        }
      ]
    },
    {
      "cell_type": "code",
      "metadata": {
        "colab": {
          "base_uri": "https://localhost:8080/"
        },
        "id": "-ecjgyZqumsK",
        "outputId": "9cf3fcf3-a16c-488b-c6b3-9b99efb61c34"
      },
      "source": [
        "print(f\"Για Ν3 = 10.000.000 η τρέχουσα αξία ισούται με Co = {round(Co,5)} \\\n",
        "και έχει χρόνο εκτέλεσης Elapsed time = {round(elapsed_time,5)} sec\")"
      ],
      "execution_count": null,
      "outputs": [
        {
          "output_type": "stream",
          "text": [
            "Για Ν3 = 10.000.000 η τρέχουσα αξία ισούται με Co = 1.83309 και έχει χρόνο εκτέλεσης Elapsed time = 0.01237 sec\n"
          ],
          "name": "stdout"
        }
      ]
    }
  ]
}