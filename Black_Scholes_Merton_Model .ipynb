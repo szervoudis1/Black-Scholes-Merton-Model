{
  "nbformat": 4,
  "nbformat_minor": 0,
  "metadata": {
    "colab": {
      "name": "Black - Scholes - Merton Model.ipynb",
      "provenance": [],
      "collapsed_sections": [],
      "toc_visible": true
    },
    "kernelspec": {
      "name": "python3",
      "display_name": "Python 3"
    }
  },
  "cells": [
    {
      "cell_type": "markdown",
      "metadata": {
        "id": "Q7D_ASUyrTq-"
      },
      "source": [
        "# Ατομική Εργασία 2 : \n",
        "\n",
        "## Black - Scholes - Merton Model \n",
        "--------------------------------------------------------------------------------\n"
      ]
    },
    {
      "cell_type": "markdown",
      "metadata": {
        "id": "q6sOC0_SsT8P"
      },
      "source": [
        "## Ερώτημα - Α\n",
        "--------------------------------------------------------------------------------"
      ]
    },
    {
      "cell_type": "code",
      "metadata": {
        "colab": {
          "base_uri": "https://localhost:8080/"
        },
        "id": "xqAs0nBJsVVd",
        "outputId": "fb252c3d-605a-4bcf-fd8d-5b2fe5e29c1e"
      },
      "source": [
        "# Εισαγωγή απαραίτητης βιβλιοθήκης\n",
        "\n",
        "import numpy as np  # Εισαγωγή αρχικών τιμών\n",
        "\n",
        "So = 97\n",
        "K = 103\n",
        "T = 1.5\n",
        "r = 0.05\n",
        "σ = 0.02\n",
        "N = 50 # Έστω ότι υποθέτω ότι Ν = 50 ψευδοτυχαίοι αριθμοί\n",
        "\n",
        "print(f\"So = {So}\\nK = {K}\\nT = {T}\\nr = {r}\\nσ = {σ}\\nN = {N}\")"
      ],
      "execution_count": 1,
      "outputs": [
        {
          "output_type": "stream",
          "text": [
            "So = 97\n",
            "K = 103\n",
            "T = 1.5\n",
            "r = 0.05\n",
            "σ = 0.02\n",
            "N = 50\n"
          ],
          "name": "stdout"
        }
      ]
    },
    {
      "cell_type": "markdown",
      "metadata": {
        "id": "AgJXTou5tQJq"
      },
      "source": [
        "### Ερώτημα 1\n",
        "--------------------------------------------------------------------------------\n",
        "Να εξαχθούν $N$ ψευδοτυχαίοι αριθμοί  $z(i),i\\in \\left\\{ 1,....N \\right\\}$από την κανονικοποιημένη κατανομή $N(0,1)$"
      ]
    },
    {
      "cell_type": "code",
      "metadata": {
        "colab": {
          "base_uri": "https://localhost:8080/"
        },
        "id": "wgd2eEv0tUyZ",
        "outputId": "82e4f773-6cd1-4220-f4d9-1badaaa5f14f"
      },
      "source": [
        "# Εξαγωγή ψευδοτυχαίων αριθμών που ακολουθούν κανονική κατανομή ~ N(0,1) \n",
        "\n",
        "N = 50 # Έστω ότι εισάγουμε N = 50 ψευδοτυχαίους αριθμούς που ακολουθούν \n",
        "       # την κανονική κατανομή ~ Ν(0,1)\n",
        "       \n",
        "print(f\"Για N = {N} έχουμε τις παρακάτω ψευδοτυχαίες Z(i) τιμές : \\n\")\n",
        "\n",
        "Zi = np.random.standard_normal(N)\n",
        "print(Zi)\n"
      ],
      "execution_count": 2,
      "outputs": [
        {
          "output_type": "stream",
          "text": [
            "Για N = 50 έχουμε τις παρακάτω ψευδοτυχαίες Z(i) τιμές : \n",
            "\n",
            "[-0.79169767  1.64779959  0.66981029  1.0774768  -1.3877935   0.13477966\n",
            "  0.72148068  0.34452026  0.64508878  0.6057745   0.72828888 -0.94667905\n",
            " -0.32896468  0.42177693 -0.29216975 -0.64142097  0.59035536  0.2395229\n",
            "  2.13433325 -0.30093568  1.42278096 -0.4270051  -0.59832417  0.88317295\n",
            " -2.17211209  1.74659938  0.59535258 -0.10907982 -0.76782157 -2.24705273\n",
            "  0.0765645  -1.64535738  0.1740064   0.57059752  0.24036361 -0.54241554\n",
            " -0.6434754   1.41489734  0.36683983 -0.28965214  0.08632831 -0.66412451\n",
            "  0.61021393  0.19377333  0.09081332 -0.42921429 -0.78292314  0.57006616\n",
            " -0.39742294  0.46441917]\n"
          ],
          "name": "stdout"
        }
      ]
    },
    {
      "cell_type": "markdown",
      "metadata": {
        "id": "PApsZU3StpEY"
      },
      "source": [
        "### Ερώτημα 2\n",
        "--------------------------------------------------------------------------------\n",
        "\n",
        "Ο Δείκτης στην λήξη του προιόντος δίνεται από την σχέση :\n",
        "\n",
        "$${{S}_{T}}={{S}_{0}}{{e}^{\\left( \\left( r-\\frac{1}{2}{{\\sigma }^{2}} \\right)T+\\sigma \\sqrt{T}z \\right)}}$$"
      ]
    },
    {
      "cell_type": "code",
      "metadata": {
        "colab": {
          "base_uri": "https://localhost:8080/"
        },
        "id": "Z4tD2wbdtr41",
        "outputId": "8ea4d1e7-fe82-4a2f-fbf6-6f09cac069c1"
      },
      "source": [
        "# Ο δείκτης στην λήξη του προϊόντος ισούται με :\n",
        "\n",
        "ST = So * np.exp((r - 0.5 * σ**2) * T + σ * np.sqrt(T) * Zi)\n",
        "\n",
        "ST"
      ],
      "execution_count": 3,
      "outputs": [
        {
          "output_type": "execute_result",
          "data": {
            "text/plain": [
              "array([102.51595299, 108.82854481, 106.25245494, 107.31878048,\n",
              "       101.02996127, 104.86904618, 106.38701965, 105.40920506,\n",
              "       106.18813316, 106.08592329, 106.40476289, 102.12751426,\n",
              "       103.68454023, 105.60886969, 103.77803198, 102.89401085,\n",
              "       106.04586323, 105.1384515 , 110.13327822, 103.75575111,\n",
              "       108.23035282, 103.43584158, 103.00268844, 106.80921539,\n",
              "        99.10751943, 109.09223871, 106.05884471, 104.24449771,\n",
              "       102.57592622,  98.92575827, 104.71961217, 100.39456961,\n",
              "       104.96985854, 105.99455302, 105.14061665, 103.14384481,\n",
              "       102.88883305, 108.20945463, 105.46684969, 103.78443204,\n",
              "       104.74466027, 102.83680525, 106.09746006, 105.0206961 ,\n",
              "       104.75616813, 103.43024442, 102.53798922, 105.99317346,\n",
              "       103.51081958, 105.71923761])"
            ]
          },
          "metadata": {
            "tags": []
          },
          "execution_count": 3
        }
      ]
    },
    {
      "cell_type": "markdown",
      "metadata": {
        "id": "p8dLfQsztxOk"
      },
      "source": [
        "### Ερώτημα 3\n",
        "--------------------------------------------------------------------------------\n",
        "Για τον υπολογίσμο των Ενδιάμεσων Τιμών χρησιμοποιούμε τον παρακάτω τύπο :\n",
        "\n",
        "$$h_T\\left(i\\right)=max\\left(S_T\\left(i\\right)-K,0\\right)$$\n"
      ]
    },
    {
      "cell_type": "code",
      "metadata": {
        "colab": {
          "base_uri": "https://localhost:8080/"
        },
        "id": "jOBZFl7Wt0_j",
        "outputId": "1aaed414-566d-4c7e-ef4b-9096c5b214ac"
      },
      "source": [
        "# Υπολογισμός ενδιάμεσων τιμών hT(i)\n",
        "\n",
        "hT = np.maximum(ST - K , 0)\n",
        "hT "
      ],
      "execution_count": 4,
      "outputs": [
        {
          "output_type": "execute_result",
          "data": {
            "text/plain": [
              "array([0.00000000e+00, 5.82854481e+00, 3.25245494e+00, 4.31878048e+00,\n",
              "       0.00000000e+00, 1.86904618e+00, 3.38701965e+00, 2.40920506e+00,\n",
              "       3.18813316e+00, 3.08592329e+00, 3.40476289e+00, 0.00000000e+00,\n",
              "       6.84540234e-01, 2.60886969e+00, 7.78031975e-01, 0.00000000e+00,\n",
              "       3.04586323e+00, 2.13845150e+00, 7.13327822e+00, 7.55751111e-01,\n",
              "       5.23035282e+00, 4.35841584e-01, 2.68844161e-03, 3.80921539e+00,\n",
              "       0.00000000e+00, 6.09223871e+00, 3.05884471e+00, 1.24449771e+00,\n",
              "       0.00000000e+00, 0.00000000e+00, 1.71961217e+00, 0.00000000e+00,\n",
              "       1.96985854e+00, 2.99455302e+00, 2.14061665e+00, 1.43844808e-01,\n",
              "       0.00000000e+00, 5.20945463e+00, 2.46684969e+00, 7.84432036e-01,\n",
              "       1.74466027e+00, 0.00000000e+00, 3.09746006e+00, 2.02069610e+00,\n",
              "       1.75616813e+00, 4.30244417e-01, 0.00000000e+00, 2.99317346e+00,\n",
              "       5.10819581e-01, 2.71923761e+00])"
            ]
          },
          "metadata": {
            "tags": []
          },
          "execution_count": 4
        }
      ]
    },
    {
      "cell_type": "markdown",
      "metadata": {
        "id": "3cET0LV-t4jV"
      },
      "source": [
        "### Ερώτημα 4\n",
        "--------------------------------------------------------------------------------\n",
        "\n",
        "Ο υπολογισμός της Τρέχουσας Αξίας δίνεται με βάση τον εκτιμητή Montee Carlo δίνεται από τον τύπο :\n",
        "\n",
        "$$C_0\\approx e^{-rT}\\frac{\\sum_{I}{h_T\\left(i\\right)}}{I}$$"
      ]
    },
    {
      "cell_type": "code",
      "metadata": {
        "colab": {
          "base_uri": "https://localhost:8080/"
        },
        "id": "-G7Sjmfit62J",
        "outputId": "244e266b-c2c1-4207-deaf-baeeb7a11ed7"
      },
      "source": [
        "# Υπολογισμός τρέχουσας αξίας του προϊόντος με βάση τον εκτιμητή Monte Carlom\n",
        "\n",
        "Co = np.exp(-r * T) * np.mean(hT)\n",
        "Co"
      ],
      "execution_count": 5,
      "outputs": [
        {
          "output_type": "execute_result",
          "data": {
            "text/plain": [
              "1.8640967462433315"
            ]
          },
          "metadata": {
            "tags": []
          },
          "execution_count": 5
        }
      ]
    },
    {
      "cell_type": "code",
      "metadata": {
        "colab": {
          "base_uri": "https://localhost:8080/"
        },
        "id": "Vyk-hHtst8iw",
        "outputId": "bf68a0ec-66fa-49f5-93e2-065648fd7b64"
      },
      "source": [
        "print(f\"Επομένως για Ν = 50 η τρέχουσα αξία ισούται με Co = {round(Co,5)}\")"
      ],
      "execution_count": 6,
      "outputs": [
        {
          "output_type": "stream",
          "text": [
            "Επομένως για Ν = 50 η τρέχουσα αξία ισούται με Co = 1.8641\n"
          ],
          "name": "stdout"
        }
      ]
    },
    {
      "cell_type": "markdown",
      "metadata": {
        "id": "apS1SR5uuAV5"
      },
      "source": [
        "## Ερώτημα - Β\n",
        "--------------------------------------------------------------------------------\n",
        "\n",
        "Να υπολογίσετε το χρόνο που απαιτεί το πρόγραμμα που κατασκευάσατε για κάθε τιμή του $N$.\n"
      ]
    },
    {
      "cell_type": "code",
      "metadata": {
        "id": "AXLBkuA2uCkG"
      },
      "source": [
        "# Εισαγωγή απαραίτητης βιβλιοθήκης\n",
        "\n",
        "import numpy as np\n",
        "import timeit # Βιβλιοθήκη υπολογισμού χρόνο εκτέλεσης προγράμματος"
      ],
      "execution_count": 7,
      "outputs": []
    },
    {
      "cell_type": "code",
      "metadata": {
        "colab": {
          "base_uri": "https://localhost:8080/"
        },
        "id": "ECD9eAFJuFP0",
        "outputId": "9805987d-9c17-44f4-b3b2-d1fbebee1fcc"
      },
      "source": [
        "# Εισαγωγή αρχικών τιμών\n",
        "\n",
        "So = 97\n",
        "K = 103\n",
        "T = 1.5\n",
        "r = 0.05\n",
        "σ = 0.02\n",
        "N1 = 10**3\n",
        "N2 = 10**5\n",
        "N3 = 10**7\n",
        "\n",
        "\n",
        "print(f\"\\nSo = {So}\\nK = {K}\\nT = {T}\\nr = {r}\\nσ = {σ}\\\n",
        "                    \\nN1 = {N1}\\nN2 = {N2}\\nN3 = {N3}\")"
      ],
      "execution_count": 8,
      "outputs": [
        {
          "output_type": "stream",
          "text": [
            "\n",
            "So = 97\n",
            "K = 103\n",
            "T = 1.5\n",
            "r = 0.05\n",
            "σ = 0.02                    \n",
            "N1 = 1000\n",
            "N2 = 100000\n",
            "N3 = 10000000\n"
          ],
          "name": "stdout"
        }
      ]
    },
    {
      "cell_type": "markdown",
      "metadata": {
        "id": "vvXdUsECuMWZ"
      },
      "source": [
        "#### Έστω ότι εισάγουμε ${{N}_{1}}=1.000$ ψευδοτυχαίους αριθμούς που ακολουθούν την κανονική κατανομή $\\sim N(0,1)$\n",
        "--------------------------------------------------------------------------------"
      ]
    },
    {
      "cell_type": "code",
      "metadata": {
        "colab": {
          "base_uri": "https://localhost:8080/"
        },
        "id": "3wJm6vNBuOLg",
        "outputId": "e972c848-0166-486f-a2ec-23bb47740cdd"
      },
      "source": [
        "# Έχουμε N1 = 1.000 ψευδοτυχαίους αριθμούς που ακολουθούν \n",
        "# την κανονική κατανομή ~ Ν(0,1)\n",
        "\n",
        "# Επομένως προκύπτει ότι η τρέχουσα αξία ισούται με :\n",
        "\n",
        "Zi = np.random.standard_normal(N1)\n",
        "ST = So * np.exp((r - 0.5 * σ**2) * T + σ * np.sqrt(T) * Zi)\n",
        "hT = np.maximum(ST - K , 0)\n",
        "Co = np.exp(-r * T) * np.mean(hT)\n",
        "Co"
      ],
      "execution_count": 9,
      "outputs": [
        {
          "output_type": "execute_result",
          "data": {
            "text/plain": [
              "1.8679125269835828"
            ]
          },
          "metadata": {
            "tags": []
          },
          "execution_count": 9
        }
      ]
    },
    {
      "cell_type": "code",
      "metadata": {
        "colab": {
          "base_uri": "https://localhost:8080/"
        },
        "id": "DJF9emRVuQa9",
        "outputId": "b1ffa545-ea76-448e-9132-6b5136ba86fc"
      },
      "source": [
        "# Υπολογισμός χρ΄όνου εκτέλεσης προγράμματος για Ν1 = 1.000\n",
        "\n",
        "code_to_test = \"\"\"\n",
        "a = range(100000)\n",
        "b = []\n",
        "for i in a:\n",
        " b.append(i*2)\n",
        "\"\"\"\n",
        "elapsed_time = timeit.timeit(code_to_test, number=100)/100\n",
        "print(elapsed_time)"
      ],
      "execution_count": 10,
      "outputs": [
        {
          "output_type": "stream",
          "text": [
            "0.012619687530004739\n"
          ],
          "name": "stdout"
        }
      ]
    },
    {
      "cell_type": "code",
      "metadata": {
        "colab": {
          "base_uri": "https://localhost:8080/"
        },
        "id": "NiUKErCAuTsZ",
        "outputId": "b1320a1a-b4c9-4f25-ee46-0d038e603dd6"
      },
      "source": [
        "print(f\"Για Ν1 = 1.000 η τρέχουσα αξία ισούται με Co = {round(Co,5)} \\\n",
        "και έχει χρόνο εκτέλεσης Elapsed time = {round(elapsed_time,5,)} sec\")"
      ],
      "execution_count": 11,
      "outputs": [
        {
          "output_type": "stream",
          "text": [
            "Για Ν1 = 1.000 η τρέχουσα αξία ισούται με Co = 1.86791 και έχει χρόνο εκτέλεσης Elapsed time = 0.01262 sec\n"
          ],
          "name": "stdout"
        }
      ]
    },
    {
      "cell_type": "markdown",
      "metadata": {
        "id": "vWIoUMHcuYiO"
      },
      "source": [
        "#### Έστω ότι εισάγουμε ${{N}_{2}}=100.000$ ψευδοτυχαίους αριθμούς που ακολουθούν την κανονική κατανομή $\\sim N(0,1)$\n",
        "--------------------------------------------------------------------------------"
      ]
    },
    {
      "cell_type": "code",
      "metadata": {
        "colab": {
          "base_uri": "https://localhost:8080/"
        },
        "id": "MDfjN0udubDC",
        "outputId": "458e4339-4a42-4b20-ba7e-963d52e968bd"
      },
      "source": [
        "# Έχουμε N2 = 100.000 ψευδοτυχαίους αριθμούς που ακολουθούν\n",
        "# την κανονική κατανομή ~ Ν(0,1)\n",
        "\n",
        "# Επομένως προκύπτει ότι η τρέχουσα αξία ισούται με :\n",
        "\n",
        "Zi = np.random.standard_normal(N2)\n",
        "ST = So * np.exp((r - 0.5 * σ**2) * T + σ * np.sqrt(T) * Zi)\n",
        "hT = np.maximum(ST - K , 0)\n",
        "Co = np.exp(-r * T) * np.mean(hT)\n",
        "Co"
      ],
      "execution_count": 12,
      "outputs": [
        {
          "output_type": "execute_result",
          "data": {
            "text/plain": [
              "1.838851815166344"
            ]
          },
          "metadata": {
            "tags": []
          },
          "execution_count": 12
        }
      ]
    },
    {
      "cell_type": "code",
      "metadata": {
        "colab": {
          "base_uri": "https://localhost:8080/"
        },
        "id": "9WACrNG6uc22",
        "outputId": "7f118770-c712-460b-f71c-9885e8e1d4f4"
      },
      "source": [
        "# Υπολογισμός χρ΄όνου εκτέλεσης προγράμματος για Ν2 = 100.000\n",
        "\n",
        "code_to_test = \"\"\"\n",
        "a = range(100000)\n",
        "b = []\n",
        "for i in a:\n",
        " b.append(i*2)\n",
        "\"\"\"\n",
        "elapsed_time = timeit.timeit(code_to_test, number=10)/10\n",
        "print(elapsed_time)"
      ],
      "execution_count": 13,
      "outputs": [
        {
          "output_type": "stream",
          "text": [
            "0.014079986399883638\n"
          ],
          "name": "stdout"
        }
      ]
    },
    {
      "cell_type": "code",
      "metadata": {
        "colab": {
          "base_uri": "https://localhost:8080/"
        },
        "id": "WC5X2C7Wueaw",
        "outputId": "11b8457f-93dc-437b-cabc-2a1f7b2d60c9"
      },
      "source": [
        "print(f\"Για Ν2 = 100.000 η τρέχουσα αξία ισούται με Co = {round(Co,5)} \\\n",
        "και έχει χρόνο εκτέλεσης Elapsed time = {round(elapsed_time,5)} sec\")"
      ],
      "execution_count": 14,
      "outputs": [
        {
          "output_type": "stream",
          "text": [
            "Για Ν2 = 100.000 η τρέχουσα αξία ισούται με Co = 1.83885 και έχει χρόνο εκτέλεσης Elapsed time = 0.01408 sec\n"
          ],
          "name": "stdout"
        }
      ]
    },
    {
      "cell_type": "markdown",
      "metadata": {
        "id": "9BEbHf8UuhJy"
      },
      "source": [
        "#### Έστω ότι εισάγουμε ${{N}_{3}}=10.000.000$ ψευδοτυχαίους αριθμούς που ακολουθούν την κανονική κατανομή $\\sim N(0,1)$\n",
        "--------------------------------------------------------------------------------"
      ]
    },
    {
      "cell_type": "code",
      "metadata": {
        "colab": {
          "base_uri": "https://localhost:8080/"
        },
        "id": "EIXmxuUBujSx",
        "outputId": "da29ce25-5f18-4b1d-caad-257addfddcf2"
      },
      "source": [
        "# Έχουμε N3 = 10.000.000 ψευδοτυχαίους αριθμούς που ακολουθούν\n",
        "# την κανονική κατανομή ~ Ν(0,1)\n",
        "\n",
        "# Επομένως προκύπτει ότι η τρέχουσα αξία ισούται με :\n",
        "\n",
        "Zi = np.random.standard_normal(N3)\n",
        "ST = So * np.exp((r - 0.5 * σ**2) * T + σ * np.sqrt(T) * Zi)\n",
        "hT = np.maximum(ST - K , 0)\n",
        "Co = np.exp(-r * T) * np.mean(hT)\n",
        "Co"
      ],
      "execution_count": 15,
      "outputs": [
        {
          "output_type": "execute_result",
          "data": {
            "text/plain": [
              "1.8325985957672315"
            ]
          },
          "metadata": {
            "tags": []
          },
          "execution_count": 15
        }
      ]
    },
    {
      "cell_type": "code",
      "metadata": {
        "colab": {
          "base_uri": "https://localhost:8080/"
        },
        "id": "qI_qzyM3ulOB",
        "outputId": "6e8a8079-1ecd-41c5-b63d-c30db8b630f7"
      },
      "source": [
        "# Υπολογισμός χρ΄όνου εκτέλεσης προγράμματος για Ν3 = 10.000.000\n",
        "\n",
        "code_to_test = \"\"\"\n",
        "a = range(100000)\n",
        "b = []\n",
        "for i in a:\n",
        " b.append(i*2)\n",
        "\"\"\"\n",
        "elapsed_time = timeit.timeit(code_to_test, number=100)/100\n",
        "print(elapsed_time)"
      ],
      "execution_count": 16,
      "outputs": [
        {
          "output_type": "stream",
          "text": [
            "0.01263172097998904\n"
          ],
          "name": "stdout"
        }
      ]
    },
    {
      "cell_type": "code",
      "metadata": {
        "colab": {
          "base_uri": "https://localhost:8080/"
        },
        "id": "-ecjgyZqumsK",
        "outputId": "2da64d50-26bd-4613-ea5c-68430d76728b"
      },
      "source": [
        "print(f\"Για Ν3 = 10.000.000 η τρέχουσα αξία ισούται με Co = {round(Co,5)} \\\n",
        "και έχει χρόνο εκτέλεσης Elapsed time = {round(elapsed_time,5)} sec\")"
      ],
      "execution_count": 17,
      "outputs": [
        {
          "output_type": "stream",
          "text": [
            "Για Ν3 = 10.000.000 η τρέχουσα αξία ισούται με Co = 1.8326 και έχει χρόνο εκτέλεσης Elapsed time = 0.01263 sec\n"
          ],
          "name": "stdout"
        }
      ]
    }
  ]
}