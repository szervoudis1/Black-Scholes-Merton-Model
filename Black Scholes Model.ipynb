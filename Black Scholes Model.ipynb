{
 "cells": [
  {
   "cell_type": "markdown",
   "metadata": {},
   "source": [
    "# Black - Scholes - Merton Model"
   ]
  },
  {
   "cell_type": "markdown",
   "metadata": {},
   "source": [
    "###### Usefull Link :\n",
    "[The Black-Scholes-Merton Formula _ Link](https://brilliant.org/wiki/black-scholes-merton/)"
   ]
  },
  {
   "cell_type": "markdown",
   "metadata": {},
   "source": [
    "\n",
    "\n",
    "\n",
    "\n"
   ]
  },
  {
   "cell_type": "markdown",
   "metadata": {},
   "source": [
    "## The Necessary INPUTS are :\n",
    "\n",
    "* The underlyning Stock's Price\n",
    "* The option's Strike Price\n",
    "* Time to the Option's Expiry\n",
    "* Volatility of the Stock\n",
    "* Time Value of Money (or Risk Free Interest Rate)"
   ]
  },
  {
   "cell_type": "markdown",
   "metadata": {},
   "source": [
    "\n",
    "$$C\\left(S_0,t\\right)\\ =\\ S_0N\\left(d_1\\right)\\ -\\ Ke^{-r\\left(T-t\\right)}N\\left(d_2\\right)$$\n"
   ]
  },
  {
   "cell_type": "markdown",
   "metadata": {},
   "source": [
    "#### where :"
   ]
  },
  {
   "cell_type": "markdown",
   "metadata": {},
   "source": [
    "$S_0 {: is\\ a\\ stock\\ price}$"
   ]
  },
  {
   "cell_type": "markdown",
   "metadata": {},
   "source": [
    "$C\\left(S_0,t\\right){: is\\ the\\ price\\ of\\ all\\ call\\ option\\ a\\ formulation\\ of\\ the\\ stock\\ price\\ and\\ time}$"
   ]
  },
  {
   "cell_type": "markdown",
   "metadata": {},
   "source": [
    "$K {: is\\ the\\ exercise\\ price}$"
   ]
  },
  {
   "cell_type": "markdown",
   "metadata": {},
   "source": [
    "$\\left(T-t\\right) {:  is\\ the\\ time\\ to\\ maturity\\,\\ i.e.\\ the\\ exercise\\ date\\ T\\,\\ less\\ the\\ amount\\ of\\ time\\ between\\ now\\ t\\ and\\ then.}$"
   ]
  },
  {
   "cell_type": "markdown",
   "metadata": {},
   "source": [
    "$N\\left(d_1\\right) {and} N\\left(d_2\\right) {:are\\ cumulative\\ distribution\\ functions\\ for\\ a\\ standard\\ normal\\ distribution\\ with\\ the\\ following\\ formulation\\ :}$"
   ]
  },
  {
   "cell_type": "markdown",
   "metadata": {},
   "source": [
    "$$d_1=\\ \\frac{ln\\frac{S_0}{K}+\\left(r+\\frac{\\sigma^2}{2}\\right)\\left(T-t\\right)}{\\sigma\\sqrt{T-t}}$$"
   ]
  },
  {
   "cell_type": "markdown",
   "metadata": {},
   "source": [
    "$$d_2=d_1-\\sigma\\sqrt{\\left(T-t\\right)}=\\ \\frac{ln\\frac{S_0}{K}+\\left(r+\\frac{\\sigma^2}{2}\\right)\\left(T-t\\right)}{\\sigma\\sqrt{T-t}}$$"
   ]
  },
  {
   "cell_type": "markdown",
   "metadata": {},
   "source": [
    "#### where :"
   ]
  },
  {
   "cell_type": "markdown",
   "metadata": {},
   "source": [
    "* **σ** represents the underlying volatility (a standard deviation of log returns)"
   ]
  },
  {
   "cell_type": "markdown",
   "metadata": {},
   "source": [
    "* **r** is the risk-free interest rate, i.e. the rate of return an investor could get on an investment assumed to be risk-free (like a T-bill).\n"
   ]
  },
  {
   "cell_type": "markdown",
   "metadata": {},
   "source": [
    "# Ατομική Εργασία 2 :\n",
    "-----------------------------------\n",
    "## Αλγοριθμικές δομές - Δομές δεδομένων - Συναρτήσεις - Numpy\n",
    "-----------------------------------"
   ]
  },
  {
   "cell_type": "code",
   "execution_count": 1,
   "metadata": {
    "scrolled": true
   },
   "outputs": [
    {
     "data": {
      "text/html": [
       "\n",
       "        <iframe\n",
       "            width=\"800\"\n",
       "            height=\"900\"\n",
       "            src=\"Black - Scholes - Merton Model.pdf\"\n",
       "            frameborder=\"0\"\n",
       "            allowfullscreen\n",
       "        ></iframe>\n",
       "        "
      ],
      "text/plain": [
       "<IPython.lib.display.IFrame at 0x25e81e2a190>"
      ]
     },
     "execution_count": 1,
     "metadata": {},
     "output_type": "execute_result"
    }
   ],
   "source": [
    "# Εισαγωγή Εκφώνησης Άσκησης σε μορφή .pdf\n",
    "\n",
    "from IPython.display import IFrame\n",
    "IFrame(\"Black - Scholes - Merton Model.pdf\", width=800, height=900)"
   ]
  },
  {
   "cell_type": "markdown",
   "metadata": {},
   "source": [
    "# Ερώτημα - Α\n",
    "----"
   ]
  },
  {
   "cell_type": "code",
   "execution_count": 2,
   "metadata": {},
   "outputs": [],
   "source": [
    "# Εισαγωγή απαραίτητης βιβλιοθήκης\n",
    "\n",
    "import numpy as np"
   ]
  },
  {
   "cell_type": "markdown",
   "metadata": {},
   "source": [
    "$$Εισαγωγή\\ Δεδομένων\\ :$$\n",
    "\n",
    "$$\\begin{align}\n",
    "  & {{S}_{0}}=97 \\\\ \n",
    " & K=103 \\\\ \n",
    " & T=1.5 \\\\ \n",
    " & r=0.05 \\\\ \n",
    " & \\sigma =0.2 \\\\ \n",
    " & N=50 \\\\ \n",
    "\\end{align}$$\n",
    "\n",
    "\n"
   ]
  },
  {
   "cell_type": "code",
   "execution_count": 3,
   "metadata": {},
   "outputs": [
    {
     "name": "stdout",
     "output_type": "stream",
     "text": [
      "So = 97\n",
      "K = 103\n",
      "T = 1.5\n",
      "r = 0.05\n",
      "σ = 0.02\n",
      "N = 50\n"
     ]
    }
   ],
   "source": [
    "# Εισαγωγή αρχικών τιμών\n",
    "\n",
    "So = 97\n",
    "K = 103\n",
    "T = 1.5\n",
    "r = 0.05\n",
    "σ = 0.02\n",
    "N = 50 # Έστω ότι υποθέτω ότι Ν = 50 ψευδοτυχαίοι αριθμοί\n",
    "\n",
    "print(f\"So = {So}\\nK = {K}\\nT = {T}\\nr = {r}\\nσ = {σ}\\nN = {N}\")"
   ]
  },
  {
   "cell_type": "markdown",
   "metadata": {},
   "source": [
    "### Ερώτημα 1\n",
    "----------\n",
    "\n",
    "Να εξαχθούν $N$ ψευδοτυχαίοι αριθμοί  $z(i),i\\in \\left\\{ 1,....N \\right\\}$από την κανονικοποιημένη κατανομή $N(0,1)$"
   ]
  },
  {
   "cell_type": "code",
   "execution_count": 4,
   "metadata": {},
   "outputs": [
    {
     "name": "stdout",
     "output_type": "stream",
     "text": [
      "Για N = 50 έχουμε τις παρακάτω ψευδοτυχαίες Z(i) τιμές : \n",
      "\n",
      "[ 0.58146893  0.85447976 -0.47966309 -1.07074067 -0.40338428  0.95571278\n",
      " -2.3194507  -1.14676815  0.82462709 -0.05334098  1.13811967  0.53650606\n",
      "  0.04315259  0.90198703  2.04488789 -0.61662463 -1.73583513  0.94953491\n",
      "  1.47501547  0.11168332 -1.01149933  1.15428571 -1.53978151 -0.17465078\n",
      " -0.37175254 -0.58683892 -1.10879992 -0.06411474 -1.78043669 -0.56714613\n",
      "  0.14651094 -0.67250271 -0.10857647  0.54850555  0.52707189 -1.40999802\n",
      "  0.53947005 -0.21909504 -0.269533   -0.34124745  0.09928187 -0.45580585\n",
      " -1.21771086 -0.78495253  0.51311548  2.29552052  0.23496451  0.07517769\n",
      "  1.14886747  0.61821547]\n"
     ]
    }
   ],
   "source": [
    "# Εξαγωγή ψευδοτυχαίων αριθμών που ακολουθούν κανονική κατανομή ~ N(0,1) \n",
    "\n",
    "N = 50 # Έστω ότι εισάγουμε N = 50 ψευδοτυχαίους αριθμούς που ακολουθούν την κανονική κατανομή ~ Ν(0,1)\n",
    "print(f\"Για N = {N} έχουμε τις παρακάτω ψευδοτυχαίες Z(i) τιμές : \\n\")\n",
    "\n",
    "Zi = np.random.standard_normal(N)\n",
    "print(Zi)\n"
   ]
  },
  {
   "cell_type": "markdown",
   "metadata": {},
   "source": [
    "### Ερώτημα 2\n",
    "--------------\n",
    "\n",
    "#### $$Ο\\ Δείκτης\\ στην\\ λήξη\\ του\\ προιόντος\\ δίνεται\\ από\\ την\\ σχέση :$$\n",
    "\n",
    "$${{S}_{T}}={{S}_{0}}{{e}^{\\left( \\left( r-\\frac{1}{2}{{\\sigma }^{2}} \\right)T+\\sigma \\sqrt{T}z \\right)}}$$"
   ]
  },
  {
   "cell_type": "code",
   "execution_count": 5,
   "metadata": {},
   "outputs": [
    {
     "data": {
      "text/plain": [
       "array([106.02278251, 106.73417233, 103.30251065, 101.81763241,\n",
       "       103.49570579, 106.99916866,  98.75048068, 101.62819539,\n",
       "       106.65615277, 104.38692173, 107.47831465, 105.90607743,\n",
       "       104.63394246, 106.85844966, 109.8922453 , 102.95652601,\n",
       "       100.17231721, 106.98297811, 108.3689199 , 104.80973407,\n",
       "       101.9654883 , 107.52088294, 100.65453301, 104.07719939,\n",
       "       103.57592702, 103.03167027, 101.72275641, 104.35937742,\n",
       "       100.06293763, 103.08138194, 104.8991853 , 102.81570292,\n",
       "       104.24578299, 105.93721059, 105.88160654, 100.97502628,\n",
       "       105.91376679, 103.9639566 , 103.83559129, 103.65334985,\n",
       "       104.77790063, 103.36289628, 101.45174593, 102.53289222,\n",
       "       105.84541593, 110.56897321, 105.12671269, 104.71605493,\n",
       "       107.50661379, 106.11825687])"
      ]
     },
     "execution_count": 5,
     "metadata": {},
     "output_type": "execute_result"
    }
   ],
   "source": [
    "# Ο δείκτης στην λήξη του προϊόντος ισούται με :\n",
    "\n",
    "ST = So * np.exp((r - 0.5 * σ**2) * T + σ * np.sqrt(T) * Zi)\n",
    "\n",
    "ST"
   ]
  },
  {
   "cell_type": "markdown",
   "metadata": {},
   "source": [
    "### Ερώτημα 3\n",
    "-------------------\n",
    "$$Για\\ τον\\ υπολογίσμο\\ των\\ Ενδιάμεσων\\ Τιμών\\ χρησιμοποιούμε\\ τον\\ παρακάτω\\ τύπο\\ :$$\n",
    "\n",
    "$$h_T\\left(i\\right)=max\\left(S_T\\left(i\\right)-K,0\\right)$$\n"
   ]
  },
  {
   "cell_type": "code",
   "execution_count": 6,
   "metadata": {},
   "outputs": [
    {
     "data": {
      "text/plain": [
       "array([3.02278251, 3.73417233, 0.30251065, 0.        , 0.49570579,\n",
       "       3.99916866, 0.        , 0.        , 3.65615277, 1.38692173,\n",
       "       4.47831465, 2.90607743, 1.63394246, 3.85844966, 6.8922453 ,\n",
       "       0.        , 0.        , 3.98297811, 5.3689199 , 1.80973407,\n",
       "       0.        , 4.52088294, 0.        , 1.07719939, 0.57592702,\n",
       "       0.03167027, 0.        , 1.35937742, 0.        , 0.08138194,\n",
       "       1.8991853 , 0.        , 1.24578299, 2.93721059, 2.88160654,\n",
       "       0.        , 2.91376679, 0.9639566 , 0.83559129, 0.65334985,\n",
       "       1.77790063, 0.36289628, 0.        , 0.        , 2.84541593,\n",
       "       7.56897321, 2.12671269, 1.71605493, 4.50661379, 3.11825687])"
      ]
     },
     "execution_count": 6,
     "metadata": {},
     "output_type": "execute_result"
    }
   ],
   "source": [
    "# Υπολογισμός ενδιάμεσων τιμών hT(i)\n",
    "\n",
    "hT = np.maximum(ST - K , 0)\n",
    "hT "
   ]
  },
  {
   "cell_type": "markdown",
   "metadata": {},
   "source": [
    "### Ερώτημα 4\n",
    "-----------------\n",
    "\n",
    "$$Ο\\ υπολογισμός\\ της\\ Τρέχουσας\\ Αξίας\\ δίνεται\\ με\\ βάση\\ τον\\ εκτιμητή\\ Montee\\ Carlo\\ δίνεται\\ από\\ τον\\ τύπο\\ :$$\n",
    "\n",
    "$$C_0\\approx e^{-rT}\\frac{\\sum_{I}{h_T\\left(i\\right)}}{I}$$"
   ]
  },
  {
   "cell_type": "code",
   "execution_count": 7,
   "metadata": {},
   "outputs": [
    {
     "data": {
      "text/plain": [
       "1.7353959458663542"
      ]
     },
     "execution_count": 7,
     "metadata": {},
     "output_type": "execute_result"
    }
   ],
   "source": [
    "# Υπολογισμός τρέχουσας αξίας του προϊόντος με βάση τον εκτιμητή Monte Carlo\n",
    "\n",
    "Co = np.exp(-r * T) * np.mean(hT)\n",
    "Co"
   ]
  },
  {
   "cell_type": "code",
   "execution_count": 8,
   "metadata": {},
   "outputs": [
    {
     "name": "stdout",
     "output_type": "stream",
     "text": [
      "Επομένως για Ν = 50 η τρέχουσα αξία ισούται με Co = 1.7354\n"
     ]
    }
   ],
   "source": [
    "print(f\"Επομένως για Ν = 50 η τρέχουσα αξία ισούται με Co = {round(Co,5)}\")"
   ]
  },
  {
   "cell_type": "markdown",
   "metadata": {},
   "source": [
    "# Ερώτημα - Β\n",
    "------\n",
    "\n",
    "Να υπολογίσετε το χρόνο που απαιτεί το πρόγραμμα που κατασκευάσατε για κάθε τιμή του $N$.\n"
   ]
  },
  {
   "cell_type": "code",
   "execution_count": 9,
   "metadata": {},
   "outputs": [],
   "source": [
    "# Εισαγωγή απαραίτητης βιβλιοθήκης\n",
    "\n",
    "import numpy as np\n",
    "import timeit # Βιβλιοθήκη υπολογισμού χρόνο εκτέλεσης προγράμματος"
   ]
  },
  {
   "cell_type": "markdown",
   "metadata": {},
   "source": [
    "$$Εισαγωγή\\ Δεδομένων\\ :$$\n",
    "$$\\begin{align}\n",
    "  & {{S}_{0}}=97 \\\\ \n",
    " & K=103 \\\\ \n",
    " & T=1.5 \\\\ \n",
    " & r=0.05 \\\\ \n",
    " & \\sigma =0.2 \\\\ \n",
    " & {{N}_{1}}=1.000 \\\\ \n",
    " & {{N}_{2}}=100.000 \\\\ \n",
    " & {{N}_{3}}=10.000.000 \\\\ \n",
    "\\end{align}$$\n"
   ]
  },
  {
   "cell_type": "code",
   "execution_count": 10,
   "metadata": {},
   "outputs": [
    {
     "name": "stdout",
     "output_type": "stream",
     "text": [
      "So = 97\n",
      "K = 103\n",
      "T = 1.5\n",
      "r = 0.05\n",
      "σ = 0.02\n",
      "N1 = 1000\n",
      "N2 = 100000\n",
      "N3 = 10000000\n"
     ]
    }
   ],
   "source": [
    "# Εισαγωγή αρχικών τιμών\n",
    "\n",
    "So = 97\n",
    "K = 103\n",
    "T = 1.5\n",
    "r = 0.05\n",
    "σ = 0.02\n",
    "N1 = 10**3\n",
    "N2 = 10**5\n",
    "N3 = 10**7\n",
    "\n",
    "\n",
    "print(f\"So = {So}\\nK = {K}\\nT = {T}\\nr = {r}\\nσ = {σ}\\nN1 = {N1}\\nN2 = {N2}\\nN3 = {N3}\")"
   ]
  },
  {
   "cell_type": "markdown",
   "metadata": {},
   "source": [
    "#### Έστω ότι εισάγουμε ${{N}_{1}}=1.000$ ψευδοτυχαίους αριθμούς που ακολουθούν την κανονική κατανομή $\\sim N(0,1)$\n",
    "-------------------------------------------------------------------------------------------------------------------------------"
   ]
  },
  {
   "cell_type": "code",
   "execution_count": 11,
   "metadata": {},
   "outputs": [
    {
     "data": {
      "text/plain": [
       "1.8083471041769301"
      ]
     },
     "execution_count": 11,
     "metadata": {},
     "output_type": "execute_result"
    }
   ],
   "source": [
    "# Έχουμε N1 = 1.000 ψευδοτυχαίους αριθμούς που ακολουθούν την κανονική κατανομή ~ Ν(0,1)\n",
    "# Επομένως προκύπτει ότι η τρέχουσα αξία ισούται με :\n",
    "\n",
    "Zi = np.random.standard_normal(N1)\n",
    "ST = So * np.exp((r - 0.5 * σ**2) * T + σ * np.sqrt(T) * Zi)\n",
    "hT = np.maximum(ST - K , 0)\n",
    "Co = np.exp(-r * T) * np.mean(hT)\n",
    "Co"
   ]
  },
  {
   "cell_type": "code",
   "execution_count": 12,
   "metadata": {},
   "outputs": [
    {
     "name": "stdout",
     "output_type": "stream",
     "text": [
      "0.011329625000000015\n"
     ]
    }
   ],
   "source": [
    "# Υπολογισμός χρ΄όνου εκτέλεσης προγράμματος για Ν1 = 1.000\n",
    "\n",
    "code_to_test = \"\"\"\n",
    "a = range(100000)\n",
    "b = []\n",
    "for i in a:\n",
    " b.append(i*2)\n",
    "\"\"\"\n",
    "elapsed_time = timeit.timeit(code_to_test, number=100)/100\n",
    "print(elapsed_time)"
   ]
  },
  {
   "cell_type": "code",
   "execution_count": 13,
   "metadata": {},
   "outputs": [
    {
     "name": "stdout",
     "output_type": "stream",
     "text": [
      "Για Ν1 = 1.000 η τρέχουσα αξία ισούται με Co = 1.80835 και έχει χρόνο εκτέλεσης Elapsed time = 0.01133 sec\n"
     ]
    }
   ],
   "source": [
    "print(f\"Για Ν1 = 1.000 η τρέχουσα αξία ισούται με Co = {round(Co,5)} \\\n",
    "και έχει χρόνο εκτέλεσης Elapsed time = {round(elapsed_time,5,)} sec\")"
   ]
  },
  {
   "cell_type": "markdown",
   "metadata": {},
   "source": [
    "#### Έστω ότι εισάγουμε ${{N}_{2}}=100.000$ ψευδοτυχαίους αριθμούς που ακολουθούν την κανονική κατανομή $\\sim N(0,1)$\n",
    "-------------------------------------------------------------------------------------------------------------------------------"
   ]
  },
  {
   "cell_type": "code",
   "execution_count": 14,
   "metadata": {},
   "outputs": [
    {
     "data": {
      "text/plain": [
       "1.8327872592873682"
      ]
     },
     "execution_count": 14,
     "metadata": {},
     "output_type": "execute_result"
    }
   ],
   "source": [
    "# Έχουμε N2 = 100.000 ψευδοτυχαίους αριθμούς που ακολουθούν την κανονική κατανομή ~ Ν(0,1)\n",
    "# Επομένως προκύπτει ότι η τρέχουσα αξία ισούται με :\n",
    "\n",
    "Zi = np.random.standard_normal(N2)\n",
    "ST = So * np.exp((r - 0.5 * σ**2) * T + σ * np.sqrt(T) * Zi)\n",
    "hT = np.maximum(ST - K , 0)\n",
    "Co = np.exp(-r * T) * np.mean(hT)\n",
    "Co"
   ]
  },
  {
   "cell_type": "code",
   "execution_count": 15,
   "metadata": {},
   "outputs": [
    {
     "name": "stdout",
     "output_type": "stream",
     "text": [
      "0.01236940000000004\n"
     ]
    }
   ],
   "source": [
    "# Υπολογισμός χρ΄όνου εκτέλεσης προγράμματος για Ν2 = 100.000\n",
    "\n",
    "code_to_test = \"\"\"\n",
    "a = range(100000)\n",
    "b = []\n",
    "for i in a:\n",
    " b.append(i*2)\n",
    "\"\"\"\n",
    "elapsed_time = timeit.timeit(code_to_test, number=10)/10\n",
    "print(elapsed_time)"
   ]
  },
  {
   "cell_type": "code",
   "execution_count": 16,
   "metadata": {},
   "outputs": [
    {
     "name": "stdout",
     "output_type": "stream",
     "text": [
      "Για Ν2 = 100.000 η τρέχουσα αξία ισούται με Co = 1.83279 και έχει χρόνο εκτέλεσης Elapsed time = 0.01237 sec\n"
     ]
    }
   ],
   "source": [
    "print(f\"Για Ν2 = 100.000 η τρέχουσα αξία ισούται με Co = {round(Co,5)} \\\n",
    "και έχει χρόνο εκτέλεσης Elapsed time = {round(elapsed_time,5)} sec\")"
   ]
  },
  {
   "cell_type": "markdown",
   "metadata": {},
   "source": [
    "#### Έστω ότι εισάγουμε ${{N}_{3}}=10.000.000$ ψευδοτυχαίους αριθμούς που ακολουθούν την κανονική κατανομή $\\sim N(0,1)$\n",
    "-------------------------------------------------------------------------------------------------------------------------------"
   ]
  },
  {
   "cell_type": "code",
   "execution_count": 17,
   "metadata": {},
   "outputs": [
    {
     "data": {
      "text/plain": [
       "1.8324208032188043"
      ]
     },
     "execution_count": 17,
     "metadata": {},
     "output_type": "execute_result"
    }
   ],
   "source": [
    "# Έχουμε N3 = 10.000.000 ψευδοτυχαίους αριθμούς που ακολουθούν την κανονική κατανομή ~ Ν(0,1)\n",
    "# Επομένως προκύπτει ότι η τρέχουσα αξία ισούται με :\n",
    "\n",
    "Zi = np.random.standard_normal(N3)\n",
    "ST = So * np.exp((r - 0.5 * σ**2) * T + σ * np.sqrt(T) * Zi)\n",
    "hT = np.maximum(ST - K , 0)\n",
    "Co = np.exp(-r * T) * np.mean(hT)\n",
    "Co"
   ]
  },
  {
   "cell_type": "code",
   "execution_count": 18,
   "metadata": {},
   "outputs": [
    {
     "name": "stdout",
     "output_type": "stream",
     "text": [
      "0.010991247000000008\n"
     ]
    }
   ],
   "source": [
    "# Υπολογισμός χρ΄όνου εκτέλεσης προγράμματος για Ν3 = 10.000.000\n",
    "\n",
    "code_to_test = \"\"\"\n",
    "a = range(100000)\n",
    "b = []\n",
    "for i in a:\n",
    " b.append(i*2)\n",
    "\"\"\"\n",
    "elapsed_time = timeit.timeit(code_to_test, number=100)/100\n",
    "print(elapsed_time)"
   ]
  },
  {
   "cell_type": "code",
   "execution_count": 19,
   "metadata": {},
   "outputs": [
    {
     "name": "stdout",
     "output_type": "stream",
     "text": [
      "Για Ν3 = 10.000.000 η τρέχουσα αξία ισούται με Co = 1.83242 και έχει χρόνο εκτέλεσης Elapsed time = 0.01099 sec\n"
     ]
    }
   ],
   "source": [
    "print(f\"Για Ν3 = 10.000.000 η τρέχουσα αξία ισούται με Co = {round(Co,5)} \\\n",
    "και έχει χρόνο εκτέλεσης Elapsed time = {round(elapsed_time,5)} sec\")"
   ]
  },
  {
   "cell_type": "markdown",
   "metadata": {},
   "source": [
    "-------------------------------------------------------------------------------------------------------------------------------"
   ]
  }
 ],
 "metadata": {
  "kernelspec": {
   "display_name": "Python 3",
   "language": "python",
   "name": "python3"
  },
  "language_info": {
   "codemirror_mode": {
    "name": "ipython",
    "version": 3
   },
   "file_extension": ".py",
   "mimetype": "text/x-python",
   "name": "python",
   "nbconvert_exporter": "python",
   "pygments_lexer": "ipython3",
   "version": "3.8.5"
  }
 },
 "nbformat": 4,
 "nbformat_minor": 4
}
